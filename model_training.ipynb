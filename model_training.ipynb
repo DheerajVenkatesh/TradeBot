{
 "cells": [
  {
   "cell_type": "code",
   "execution_count": null,
   "id": "303e1403",
   "metadata": {},
   "outputs": [],
   "source": [
    "import pandas as pd\n",
    "import numpy as np\n",
    "import joblib\n",
    "from sklearn.linear_model import LogisticRegression\n",
    "from sklearn.preprocessing import StandardScaler\n",
    "from sklearn.metrics import accuracy_score, precision_score, recall_score, f1_score, confusion_matrix, classification_report\n",
    "from nltk.sentiment import SentimentIntensityAnalyzer\n",
    "import praw\n",
    "import time"
   ]
  },
  {
   "cell_type": "code",
   "execution_count": null,
   "id": "216e5501",
   "metadata": {},
   "outputs": [],
   "source": [
    "sia = SentimentIntensityAnalyzer()"
   ]
  },
  {
   "cell_type": "code",
   "execution_count": null,
   "id": "2208e094",
   "metadata": {},
   "outputs": [],
   "source": [
    "reddit = praw.Reddit(client_id='rLAtyw4_uLGI-Zpd1WdxwA', client_secret='tXotg2-KyG9YL4Q_iIA5c5ZRu68dxw', user_agent='SentiAnalysisBot/1.0')"
   ]
  },
  {
   "cell_type": "code",
   "execution_count": null,
   "id": "5f7d48cc",
   "metadata": {},
   "outputs": [],
   "source": [
    "def get_sentiment_score(ticker):\n",
    "    subreddit = reddit.subreddit(\"stocks\")\n",
    "    mentions = subreddit.search(ticker, limit=1)\n",
    "    sentiment_scores = [sia.polarity_scores(post.title)['compound'] for post in mentions]\n",
    "    time.sleep(1)\n",
    "    return np.mean(sentiment_scores) if sentiment_scores else 0"
   ]
  },
  {
   "cell_type": "code",
   "execution_count": null,
   "id": "c0ff843c",
   "metadata": {},
   "outputs": [],
   "source": [
    "def get_simple_sentiment_score(ticker):\n",
    "    subreddit = reddit.subreddit(\"stocks\")\n",
    "    posts = list(subreddit.hot(limit=20))  # Just top 100 posts\n",
    "    mentions = [post.title for post in posts if ticker in post.title]\n",
    "\n",
    "    if not mentions:\n",
    "        return 0  # No mention, neutral\n",
    "\n",
    "    sentiment_scores = [sia.polarity_scores(title)['compound'] for title in mentions]\n",
    "    return np.mean(sentiment_scores)\n"
   ]
  },
  {
   "cell_type": "code",
   "execution_count": null,
   "id": "a8b56754",
   "metadata": {},
   "outputs": [],
   "source": [
    "#df = pd.DataFrame(stock_data)\n",
    "df = pd.read_csv('constituents-financials.csv')"
   ]
  },
  {
   "cell_type": "code",
   "execution_count": null,
   "id": "a7f3988b",
   "metadata": {},
   "outputs": [],
   "source": [
    "df = df.drop(labels=['SEC Filings','Sector','52 Week High','52 Week Low'],axis=1)"
   ]
  },
  {
   "cell_type": "code",
   "execution_count": null,
   "id": "06d3d747",
   "metadata": {},
   "outputs": [],
   "source": [
    "df = df.dropna()"
   ]
  },
  {
   "cell_type": "code",
   "execution_count": null,
   "id": "257f424a",
   "metadata": {},
   "outputs": [],
   "source": [
    "#df['Sentiment'] = df['Symbol'].apply(get_simple_sentiment_score)"
   ]
  },
  {
   "cell_type": "code",
   "execution_count": null,
   "id": "bfea280c",
   "metadata": {},
   "outputs": [],
   "source": [
    "df.value_counts()"
   ]
  },
  {
   "cell_type": "code",
   "execution_count": null,
   "id": "54e80ffd",
   "metadata": {},
   "outputs": [],
   "source": [
    "df.head(10)"
   ]
  },
  {
   "cell_type": "code",
   "execution_count": null,
   "id": "d433405c",
   "metadata": {},
   "outputs": [],
   "source": [
    "df['good_pe'] = df['Price/Earnings'].between(0, 25)  # PE ratio between 0 and 25 is \"good\"\n",
    "df['good_eps'] = df['Earnings/Share'] >= 0                 # EPS greater than or equal to 0 is \"good\"\n",
    "#df['good_roe'] = df['roe'].between(0.15, 0.20)   # ROE between 0.10 and 0.25 is \"good\"\n",
    "#df['good_debt_equity'] = df['debt_to_equity'].between(1.5,2) \n",
    "df['good_mc'] = df['Market Cap'] >= 2e9         # Market Cap greater than or equal to 1 billion is \"good\"\n",
    "df['good_pb'] = df['Price/Book'].between(0, 3)\n",
    "#df['good_current'] = df['current_ratio'].between(1.5,3)\n",
    "#df['good_sentiment'] = df['sentiment'] > 0 \n",
    "df['good_div'] = df['Dividend Yield'].between(0.02, 0.06)"
   ]
  },
  {
   "cell_type": "code",
   "execution_count": null,
   "id": "5f68583e",
   "metadata": {},
   "outputs": [],
   "source": [
    "df['good_stock'] = df[['good_pe', 'good_eps', 'good_mc', 'good_pb', 'good_div']].all(axis=1).astype(int)"
   ]
  },
  {
   "cell_type": "code",
   "execution_count": null,
   "id": "3d763c0b",
   "metadata": {},
   "outputs": [],
   "source": [
    "df"
   ]
  },
  {
   "cell_type": "code",
   "execution_count": null,
   "id": "d203924a",
   "metadata": {},
   "outputs": [],
   "source": [
    "scaler = StandardScaler()"
   ]
  },
  {
   "cell_type": "code",
   "execution_count": null,
   "id": "29ebcc6e",
   "metadata": {},
   "outputs": [],
   "source": [
    "features = ['Price/Earnings','Earnings/Share','Market Cap','Price/Book','Dividend Yield']\n",
    "X = df[features]"
   ]
  },
  {
   "cell_type": "code",
   "execution_count": null,
   "id": "caa487b7",
   "metadata": {},
   "outputs": [],
   "source": [
    "X_scaled = scaler.fit_transform(X)"
   ]
  },
  {
   "cell_type": "code",
   "execution_count": null,
   "id": "15483768",
   "metadata": {},
   "outputs": [],
   "source": [
    "clf = LogisticRegression()\n",
    "\n",
    "# Train the model\n",
    "clf.fit(X_scaled, df['good_stock'])\n",
    "\n",
    "# Predict the \"good stock\" for each stock in the dataset\n",
    "df['predicted_good_stock'] = clf.predict(X_scaled)"
   ]
  },
  {
   "cell_type": "code",
   "execution_count": null,
   "id": "bf68c970",
   "metadata": {},
   "outputs": [],
   "source": [
    "#see output\n",
    "df"
   ]
  },
  {
   "cell_type": "code",
   "execution_count": null,
   "id": "7454e3ba",
   "metadata": {},
   "outputs": [],
   "source": [
    "#check the model's metrics\n",
    "print(\"Accuracy\",accuracy_score(df['good_stock'],df['predicted_good_stock']))\n",
    "print(\"Recall:\",recall_score(df['good_stock'],df['predicted_good_stock']))"
   ]
  },
  {
   "cell_type": "code",
   "execution_count": null,
   "id": "1818a294",
   "metadata": {},
   "outputs": [],
   "source": [
    "joblib.dump(clf, 'logistic_model.pkl')"
   ]
  },
  {
   "cell_type": "code",
   "execution_count": null,
   "id": "30d53560",
   "metadata": {},
   "outputs": [],
   "source": [
    "df.to_csv('predicted_stocks.csv',index=False)"
   ]
  }
 ],
 "metadata": {
  "kernelspec": {
   "display_name": "Python 3",
   "language": "python",
   "name": "python3"
  },
  "language_info": {
   "codemirror_mode": {
    "name": "ipython",
    "version": 3
   },
   "file_extension": ".py",
   "mimetype": "text/x-python",
   "name": "python",
   "nbconvert_exporter": "python",
   "pygments_lexer": "ipython3",
   "version": "3.12.6"
  }
 },
 "nbformat": 4,
 "nbformat_minor": 5
}
